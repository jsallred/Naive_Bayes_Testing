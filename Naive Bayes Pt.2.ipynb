{
 "cells": [
  {
   "cell_type": "code",
   "execution_count": 4,
   "id": "c266f28d-be88-419c-9283-0f69787ec11e",
   "metadata": {},
   "outputs": [
    {
     "name": "stdout",
     "output_type": "stream",
     "text": [
      "Test Accuracy: 0.7138461538461538\n",
      "Classification Report for Test Set:\n",
      "              precision    recall  f1-score   support\n",
      "\n",
      "           0       0.70      0.89      0.78       164\n",
      "           1       1.00      0.00      0.00        29\n",
      "           2       0.74      0.65      0.69       132\n",
      "\n",
      "    accuracy                           0.71       325\n",
      "   macro avg       0.81      0.51      0.49       325\n",
      "weighted avg       0.74      0.71      0.68       325\n",
      "\n",
      "Cross-Validation Scores: [0.69846154 0.70769231 0.63692308 0.70153846 0.68      ]\n",
      "Mean CV Accuracy: 0.684923076923077\n"
     ]
    }
   ],
   "source": [
    "import pandas as pd\n",
    "from sklearn.feature_extraction.text import TfidfVectorizer\n",
    "from sklearn.naive_bayes import MultinomialNB\n",
    "from sklearn.model_selection import train_test_split, cross_val_score\n",
    "from sklearn.metrics import classification_report, accuracy_score\n",
    "from scipy.sparse import hstack\n",
    "\n",
    "# Step 1: Load and preprocess the data\n",
    "df = pd.read_csv('BABE_scraped.csv')\n",
    "df['content'] = df['content'].str.lower()  # Convert text to lowercase\n",
    "df.dropna(subset=['content'], inplace=True)  # Drop rows with missing values in the 'content' column\n",
    "\n",
    "# Step 2: Feature extraction\n",
    "vectorizer = TfidfVectorizer(max_features=1000, stop_words='english')\n",
    "X = vectorizer.fit_transform(df['content'])\n",
    "y = df['type_class']\n",
    "\n",
    "# Step 3: Split data into training and testing sets\n",
    "X_train, X_test, y_train, y_test = train_test_split(X, y, test_size=0.2, random_state=42)\n",
    "\n",
    "# Step 4: Train the Naive Bayes classifier\n",
    "clf = MultinomialNB()\n",
    "clf.fit(X_train, y_train)\n",
    "\n",
    "# Step 5: Evaluate the model on the test set\n",
    "y_test_pred = clf.predict(X_test)\n",
    "test_accuracy = accuracy_score(y_test, y_test_pred)\n",
    "print(\"Test Accuracy:\", test_accuracy)\n",
    "\n",
    "# Step 6: Print classification report for test set\n",
    "print(\"Classification Report for Test Set:\")\n",
    "print(classification_report(y_test, y_test_pred, zero_division=1))\n",
    "\n",
    "# Additional: Cross-validation with custom features\n",
    "# Add article length as a feature\n",
    "df['article_length'] = df['content'].apply(len)\n",
    "X_custom = hstack([X, df['article_length'].values.reshape(-1, 1)])\n",
    "\n",
    "# Perform cross-validation\n",
    "cv_scores = cross_val_score(clf, X_custom, y, cv=5)\n",
    "print(\"Cross-Validation Scores:\", cv_scores)\n",
    "print(\"Mean CV Accuracy:\", cv_scores.mean())\n"
   ]
  },
  {
   "cell_type": "markdown",
   "id": "b91f515a-e656-487b-81aa-9b72d26fb29e",
   "metadata": {},
   "source": [
    "Changes made:\n",
    "\n",
    "- Removed unnecessary imports.\n",
    "- Combined steps 3 and 4 since there's no need to split data into training, validation, and testing sets separately when evaluating the model's performance.\n",
    "- Removed redundant print statements.\n",
    "- Included the classification_report for test set evaluation.\n",
    "- Streamlined the cross-validation part and included it as an additional step."
   ]
  },
  {
   "cell_type": "code",
   "execution_count": null,
   "id": "c255a9f9-500d-4551-bcb3-de79deeb2473",
   "metadata": {},
   "outputs": [],
   "source": []
  }
 ],
 "metadata": {
  "kernelspec": {
   "display_name": "Python 3 (ipykernel)",
   "language": "python",
   "name": "python3"
  },
  "language_info": {
   "codemirror_mode": {
    "name": "ipython",
    "version": 3
   },
   "file_extension": ".py",
   "mimetype": "text/x-python",
   "name": "python",
   "nbconvert_exporter": "python",
   "pygments_lexer": "ipython3",
   "version": "3.10.8"
  }
 },
 "nbformat": 4,
 "nbformat_minor": 5
}
